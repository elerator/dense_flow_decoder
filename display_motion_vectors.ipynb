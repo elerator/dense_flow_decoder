{
 "cells": [
  {
   "cell_type": "markdown",
   "metadata": {},
   "source": [
    "# Read .mot motion data (HDF5) using tables"
   ]
  },
  {
   "cell_type": "markdown",
   "metadata": {},
   "source": [
    "### Download a sample file and build decode_motion (Ubuntu 16.04 binary provided)"
   ]
  },
  {
   "cell_type": "code",
   "execution_count": null,
   "metadata": {},
   "outputs": [],
   "source": [
    "#Download a sample video. Takes a while...\n",
    "import urllib.request\n",
    "import zipfile\n",
    "\n",
    "url = \"http://downloads.dvdloc8.com/trailers/divxdigest/serenity_hd_dvd-trailer.zip\"\n",
    "urllib.request.urlretrieve(url, \"trailer.zip\")\n",
    "\n",
    "with zipfile.ZipFile(\"./trailer.zip\", 'r') as zip_ref:\n",
    "    zip_ref.extractall(\"./\")"
   ]
  },
  {
   "cell_type": "code",
   "execution_count": null,
   "metadata": {},
   "outputs": [],
   "source": [
    "! make"
   ]
  },
  {
   "cell_type": "code",
   "execution_count": null,
   "metadata": {},
   "outputs": [],
   "source": [
    "! ./decode_motion trailer.mp4"
   ]
  },
  {
   "cell_type": "markdown",
   "metadata": {},
   "source": [
    "# Read .mot motion data (HDF5) using tables"
   ]
  },
  {
   "cell_type": "code",
   "execution_count": null,
   "metadata": {},
   "outputs": [],
   "source": [
    "import numpy as np\n",
    "np.set_printoptions(threshold=np.nan)"
   ]
  },
  {
   "cell_type": "code",
   "execution_count": null,
   "metadata": {},
   "outputs": [],
   "source": [
    "import tables\n",
    "import os\n",
    "\n",
    "filename = os.getcwd() + \"/motion_vectors.h5\"\n",
    "f = tables.open_file(filename, mode='r')"
   ]
  },
  {
   "cell_type": "code",
   "execution_count": null,
   "metadata": {},
   "outputs": [],
   "source": [
    "f.root.motion_tensor"
   ]
  },
  {
   "cell_type": "code",
   "execution_count": null,
   "metadata": {},
   "outputs": [],
   "source": [
    "a = f.root.motion_tensor\n",
    "a.shape"
   ]
  },
  {
   "cell_type": "code",
   "execution_count": null,
   "metadata": {},
   "outputs": [],
   "source": [
    "print(a[0][:,:,0])"
   ]
  },
  {
   "cell_type": "markdown",
   "metadata": {},
   "source": [
    "# Single frame strength of motion"
   ]
  },
  {
   "cell_type": "code",
   "execution_count": null,
   "metadata": {},
   "outputs": [],
   "source": [
    "import matplotlib.pyplot as plt\n",
    "%matplotlib inline\n",
    "frame = 600\n",
    "U = a[frame][:,:,0]\n",
    "V = a[frame][:,:,1]\n",
    "plt.imshow(V+U)\n",
    "plt.colorbar()\n",
    "plt.show()"
   ]
  },
  {
   "cell_type": "markdown",
   "metadata": {},
   "source": [
    "# Multiframe strength of motion"
   ]
  },
  {
   "cell_type": "code",
   "execution_count": null,
   "metadata": {},
   "outputs": [],
   "source": [
    "%matplotlib notebook\n",
    "import matplotlib.pyplot as plt\n",
    "import numpy as np\n",
    " \n",
    "#plt.ion()\n",
    "fig = plt.figure()\n",
    "ax = fig.add_subplot(111)\n",
    "\n",
    "im = ax.imshow(U+V, vmin = 0, vmax = 1)\n",
    "plt.colorbar(im,ax=ax)\n",
    "\n",
    "\n",
    "for x in range(150,300):#USER INFO: ADJUST THE RANGE OF FRAMES TO BE DISPLAYED HERE\n",
    "    U = a[x][:,:,0]\n",
    "    V = a[x][:,:,1]\n",
    "    ax.cla()\n",
    "    im = ax.imshow(U+V, vmin = 0, vmax = 1, cmap = \"gray\")\n",
    "    fig.canvas.draw()"
   ]
  },
  {
   "cell_type": "markdown",
   "metadata": {},
   "source": [
    "# Multiframe direction"
   ]
  },
  {
   "cell_type": "code",
   "execution_count": null,
   "metadata": {
    "scrolled": false
   },
   "outputs": [],
   "source": [
    "%matplotlib notebook\n",
    "import matplotlib.pyplot as plt\n",
    "import matplotlib.animation\n",
    "import numpy as np\n",
    "import cv2\n",
    "import imageio\n",
    "\n",
    "width = 120\n",
    "height = 67\n",
    "\n",
    "matplotlib.rcParams['animation.embed_limit'] = 2**128\n",
    "\n",
    "\n",
    "video_file = os.getcwd() + \"/trailer.mp4\"#USER INFO: ADJUST THE ORIGINAL VIDEO PATH HERE\n",
    "\n",
    "cap = cv2.VideoCapture(video_file)\n",
    "video_reader = imageio.get_reader(video_file)\n",
    "\n",
    "plt.ioff()\n",
    "\n",
    "start_frame = 1000#USER INFO: ADJUST START OF THE FRAMES TO BE ANIMATED HERE\n",
    "frames = 50#USER INFO: ADJUST THE RANGE OF FRAMES TO BE DISPLAYED HERE\n",
    "skip_factor = 1#speed up playback by skipping frames?\n",
    "rescaled = a[0]\n",
    "\n",
    "\n",
    "X, Y = np.meshgrid(np.arange(width), np.arange(height))\n",
    "\n",
    "\n",
    "fig, ax = plt.subplots(1,1, figsize = (16,9))\n",
    "Q = ax.quiver(X, Y, np.flipud(rescaled[:,:,0]), -np.flipud(rescaled[:,:,1]), \n",
    "              units='xy', color='g', scale = 1.0)\n",
    "ax.imshow(cap.read()[1])\n",
    "\n",
    "def animate(i):\n",
    "    print(\".\", end =\"\")\n",
    "    i *= skip_factor#skip frames\n",
    "    \n",
    "    img = None\n",
    "    if(False):\n",
    "        cap.set(1, start_frame + i)\n",
    "        ret, img = cap.read()\n",
    "    else:\n",
    "        img = video_reader.get_data(start_frame+ i)\n",
    "    ax.imshow(cv2.resize(img, (256,144)), extent = [0,width,0,height], origin = \"upper\")\n",
    "    \n",
    "    rescaled = np.array(a[start_frame+i], dtype=np.float32)\n",
    "    rescaled = rescaled / 16.0 #Get displacement in pixels of the output not input\n",
    "    rescaled = cv2.resize(rescaled, (width,height)) \n",
    "    \n",
    "    \n",
    "    Q.set_UVC(np.flipud(rescaled[:,:,0]), -np.flipud(rescaled[:,:,1]))\n",
    "\n",
    "ani = matplotlib.animation.FuncAnimation(fig, animate, frames=frames)\n",
    "\n",
    "from IPython.display import HTML\n",
    "HTML(ani.to_jshtml())"
   ]
  },
  {
   "cell_type": "markdown",
   "metadata": {},
   "source": [
    "# Some postprocesing (Median filter)"
   ]
  },
  {
   "cell_type": "code",
   "execution_count": null,
   "metadata": {},
   "outputs": [],
   "source": [
    "np.set_printoptions(5)"
   ]
  },
  {
   "cell_type": "code",
   "execution_count": null,
   "metadata": {},
   "outputs": [],
   "source": [
    "a = a[1000:1000+300,:,:,:]#1000 adjust to have a different part filtered"
   ]
  },
  {
   "cell_type": "code",
   "execution_count": null,
   "metadata": {},
   "outputs": [],
   "source": [
    "a.shape"
   ]
  },
  {
   "cell_type": "code",
   "execution_count": null,
   "metadata": {},
   "outputs": [],
   "source": [
    "from scipy.ndimage import median_filter"
   ]
  },
  {
   "cell_type": "code",
   "execution_count": null,
   "metadata": {},
   "outputs": [],
   "source": [
    "x_comp = a[:,:,:,0]\n",
    "y_comp = a[:,:,:,1]"
   ]
  },
  {
   "cell_type": "code",
   "execution_count": null,
   "metadata": {},
   "outputs": [],
   "source": [
    "a1 = np.ndarray((300,67,120,2))"
   ]
  },
  {
   "cell_type": "code",
   "execution_count": null,
   "metadata": {},
   "outputs": [],
   "source": [
    "x_comp = median_filter(x_comp, size = 2)"
   ]
  },
  {
   "cell_type": "code",
   "execution_count": null,
   "metadata": {},
   "outputs": [],
   "source": [
    "y_comp = median_filter(y_comp, size = 2)"
   ]
  },
  {
   "cell_type": "code",
   "execution_count": null,
   "metadata": {},
   "outputs": [],
   "source": [
    "a[:,:,:,0] = x_comp#overwrite old a\n",
    "a[:,:,:,1] = y_comp"
   ]
  },
  {
   "cell_type": "code",
   "execution_count": null,
   "metadata": {},
   "outputs": [],
   "source": [
    "%matplotlib notebook\n",
    "import matplotlib.pyplot as plt\n",
    "import matplotlib.animation\n",
    "import numpy as np\n",
    "import cv2\n",
    "import imageio\n",
    "\n",
    "width = 120\n",
    "height = 67\n",
    "\n",
    "matplotlib.rcParams['animation.embed_limit'] = 2**128\n",
    "\n",
    "\n",
    "video_file = os.getcwd() + \"/trailer.mp4\"#USER INFO: ADJUST THE ORIGINAL VIDEO PATH HERE\n",
    "\n",
    "cap = cv2.VideoCapture(video_file)\n",
    "video_reader = imageio.get_reader(video_file)\n",
    "\n",
    "plt.ioff()\n",
    "\n",
    "start_frame = 0#USER INFO: ADJUST START OF THE FRAMES TO BE ANIMATED HERE\n",
    "frames = 50#USER INFO: ADJUST THE RANGE OF FRAMES TO BE DISPLAYED HERE\n",
    "skip_factor = 1#speed up playback by skipping frames?\n",
    "rescaled = a[0]\n",
    "\n",
    "\n",
    "X, Y = np.meshgrid(np.arange(width), np.arange(height))\n",
    "\n",
    "\n",
    "fig, ax = plt.subplots(1,1, figsize = (16,9))\n",
    "Q = ax.quiver(X, Y, np.flipud(rescaled[:,:,0]), -np.flipud(rescaled[:,:,1]), \n",
    "              units='xy', color='g', scale = 1.0)\n",
    "ax.imshow(cap.read()[1])\n",
    "\n",
    "def animate(i):\n",
    "    print(\".\", end =\"\")\n",
    "    i *= skip_factor#skip frames\n",
    "    \n",
    "    img = None\n",
    "    if(False):\n",
    "        cap.set(1, start_frame + i)\n",
    "        ret, img = cap.read()\n",
    "    else:\n",
    "        img = video_reader.get_data(1000+start_frame+ i)#1000!!!!!!! adjust if having a different part filtered\n",
    "    ax.imshow(cv2.resize(img, (256,144)), extent = [0,width,0,height], origin = \"upper\")\n",
    "    \n",
    "    rescaled = np.array(a[start_frame+i], dtype=np.float32)\n",
    "    rescaled = rescaled / 16.0 #Get displacement in pixels of the output not input\n",
    "    rescaled = cv2.resize(rescaled, (width,height)) \n",
    "    \n",
    "    \n",
    "    Q.set_UVC(np.flipud(rescaled[:,:,0]), -np.flipud(rescaled[:,:,1]))\n",
    "\n",
    "ani = matplotlib.animation.FuncAnimation(fig, animate, frames=frames)\n",
    "\n",
    "from IPython.display import HTML\n",
    "HTML(ani.to_jshtml())"
   ]
  },
  {
   "cell_type": "code",
   "execution_count": null,
   "metadata": {},
   "outputs": [],
   "source": [
    "def histogram(vector_array, weighted=True):\n",
    "    \"\"\" Computes weighted histograms\n",
    "    Args:\n",
    "        vector_array: Array of shape width x height x 2 representing motion vectors for each pixel\n",
    "        weigthed: Boolean that states wheather bins of directions of motion are to be weighted by the length of\n",
    "                  the vectors summerized in\n",
    "    Returns: Weighted Histogram with 36 bins (), bin edges, \n",
    "            2d array of directions in degree (upwards, rightwards, downwards, leftwards),\n",
    "            2d array of lengths of vectors \"\"\"\n",
    "    \n",
    "    ary = np.array([vector_array[:,:,0].flatten(),vector_array[:,:,1].flatten()])\n",
    "    deg = np.degrees(np.arctan2(ary[0],ary[1]))+180\n",
    "    length = np.linalg.norm(ary, axis = 0)#.reshape(d[0].shape[0:2])\n",
    "    bins = (np.arange(36 +1)*10) #start at 0 go up to 360. Mind the rightmost edge has to be defined, hence +1.\n",
    "    \n",
    "    hist = None\n",
    "    bin_edges = None\n",
    "    if weighted:\n",
    "        hist, bin_edges = np.histogram(deg, weights = length, bins = bins)\n",
    "    else:\n",
    "        hist, bin_edges = np.histogram(deg, bins = bins)\n",
    "    \n",
    "    return hist, bin_edges, deg.reshape((vector_array.shape[0], vector_array.shape[1])), length.reshape((vector_array.shape[0], vector_array.shape[1]))\n",
    "\n",
    "def histograms(motion_tensor, weighted=True, frame_range = None):\n",
    "    \"\"\" Computes histograms for each frame of motion vectors and returns it as a 2d array\n",
    "    Args:\n",
    "        motion_tensor: Tensor of shape n_frames x width x height x 2 representing motion vectors (dx and dy)\n",
    "        weigthed: Boolean that states wheather bins of directions of motion are to be weighted by the length of\n",
    "                  the vectors summerized in\n",
    "        frame_range: List of two ints that states the beginning and the end of the sequence of frames to be processed\n",
    "    \"\"\"\n",
    "    data = motion_tensor\n",
    "    if frame_range:\n",
    "        data = data[frame_range[0]:frame_range[1]]\n",
    "        \n",
    "    outary = np.ndarray((data.shape[0],36))\n",
    "        \n",
    "    for d, i in zip(data, range(data.shape[0])):\n",
    "        outary[i] = histogram(d)[0]\n",
    "        if i%100 == 0:\n",
    "            print(i/data.shape[0])\n",
    "        \n",
    "    return outary.T"
   ]
  },
  {
   "cell_type": "code",
   "execution_count": null,
   "metadata": {},
   "outputs": [],
   "source": [
    "mothistmap = histogram(a[0])"
   ]
  },
  {
   "cell_type": "code",
   "execution_count": null,
   "metadata": {},
   "outputs": [],
   "source": [
    "mothistmap = histograms(a, False, [0,300])"
   ]
  },
  {
   "cell_type": "code",
   "execution_count": null,
   "metadata": {},
   "outputs": [],
   "source": [
    "%matplotlib inline\n",
    "fig = plt.subplots(figsize=(15,15))\n",
    "plt.imshow(mothistmap)"
   ]
  }
 ],
 "metadata": {
  "anaconda-cloud": {},
  "kernelspec": {
   "display_name": "Python 3",
   "language": "python",
   "name": "python3"
  },
  "language_info": {
   "codemirror_mode": {
    "name": "ipython",
    "version": 3
   },
   "file_extension": ".py",
   "mimetype": "text/x-python",
   "name": "python",
   "nbconvert_exporter": "python",
   "pygments_lexer": "ipython3",
   "version": "3.6.6"
  },
  "toc": {
   "nav_menu": {},
   "number_sections": true,
   "sideBar": true,
   "skip_h1_title": false,
   "title_cell": "Table of Contents",
   "title_sidebar": "Contents",
   "toc_cell": false,
   "toc_position": {},
   "toc_section_display": true,
   "toc_window_display": false
  }
 },
 "nbformat": 4,
 "nbformat_minor": 2
}
